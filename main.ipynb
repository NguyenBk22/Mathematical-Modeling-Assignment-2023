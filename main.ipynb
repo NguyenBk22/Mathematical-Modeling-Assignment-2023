{
 "cells": [
  {
   "cell_type": "code",
   "execution_count": 90,
   "metadata": {},
   "outputs": [],
   "source": [
    "import comparison as cp\n",
    "#import your function here"
   ]
  },
  {
   "cell_type": "code",
   "execution_count": null,
   "metadata": {},
   "outputs": [],
   "source": [
    "def f():\n",
    "    # a function that with growing\n",
    "    # memory consumption\n",
    "    a = [0] * 1000\n",
    "    sleep(.1)\n",
    "    b = a * 100\n",
    "    sleep(.1)\n",
    "    c = b * 100\n",
    "    return a\n",
    "\n",
    "def f1():\n",
    "    # a function that with growing\n",
    "    # memory consumption\n",
    "    a = [0] * 10000\n",
    "    sleep(1)\n",
    "    b = a * 100\n",
    "    sleep(1)\n",
    "    c = b * 100\n",
    "    return a\n",
    "\n",
    "nR = 7\n",
    "nC = 7\n",
    "\n",
    "comp = cp.comparison(rows= nR, columns= nC)\n",
    "comp.visualize_grid_graph()\n",
    "comp.compare_2_algorithms(f, f1)\n"
   ]
  }
 ],
 "metadata": {
  "kernelspec": {
   "display_name": "Python 3",
   "language": "python",
   "name": "python3"
  },
  "language_info": {
   "codemirror_mode": {
    "name": "ipython",
    "version": 3
   },
   "file_extension": ".py",
   "mimetype": "text/x-python",
   "name": "python",
   "nbconvert_exporter": "python",
   "pygments_lexer": "ipython3",
   "version": "3.10.8"
  }
 },
 "nbformat": 4,
 "nbformat_minor": 2
}
