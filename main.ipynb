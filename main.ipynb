{
 "cells": [
  {
   "cell_type": "code",
   "execution_count": 1,
   "metadata": {},
   "outputs": [],
   "source": [
    "import comparison as cp\n",
    "#import your function here"
   ]
  },
  {
   "cell_type": "code",
   "execution_count": 2,
   "metadata": {},
   "outputs": [
    {
     "ename": "TypeError",
     "evalue": "comparison.visualize_grid_graph() missing 2 required positional arguments: 'rows' and 'cols'",
     "output_type": "error",
     "traceback": [
      "\u001b[0;31m---------------------------------------------------------------------------\u001b[0m",
      "\u001b[0;31mTypeError\u001b[0m                                 Traceback (most recent call last)",
      "\u001b[1;32m/Users/roy/Desktop/code/mmh/Mathematical-Modeling-Assignment-2023/main.ipynb Cell 2\u001b[0m line \u001b[0;36m2\n\u001b[1;32m     <a href='vscode-notebook-cell:/Users/roy/Desktop/code/mmh/Mathematical-Modeling-Assignment-2023/main.ipynb#W4sZmlsZQ%3D%3D?line=21'>22</a>\u001b[0m nC \u001b[39m=\u001b[39m \u001b[39m7\u001b[39m\n\u001b[1;32m     <a href='vscode-notebook-cell:/Users/roy/Desktop/code/mmh/Mathematical-Modeling-Assignment-2023/main.ipynb#W4sZmlsZQ%3D%3D?line=23'>24</a>\u001b[0m comp \u001b[39m=\u001b[39m cp\u001b[39m.\u001b[39mcomparison(rows\u001b[39m=\u001b[39m nR, columns\u001b[39m=\u001b[39m nC)\n\u001b[0;32m---> <a href='vscode-notebook-cell:/Users/roy/Desktop/code/mmh/Mathematical-Modeling-Assignment-2023/main.ipynb#W4sZmlsZQ%3D%3D?line=24'>25</a>\u001b[0m comp\u001b[39m.\u001b[39;49mvisualize_grid_graph()\n\u001b[1;32m     <a href='vscode-notebook-cell:/Users/roy/Desktop/code/mmh/Mathematical-Modeling-Assignment-2023/main.ipynb#W4sZmlsZQ%3D%3D?line=25'>26</a>\u001b[0m comp\u001b[39m.\u001b[39mcompare_2_algorithms(f, f1)\n",
      "\u001b[0;31mTypeError\u001b[0m: comparison.visualize_grid_graph() missing 2 required positional arguments: 'rows' and 'cols'"
     ]
    }
   ],
   "source": [
    "def f():\n",
    "    # a function that with growing\n",
    "    # memory consumption\n",
    "    a = [0] * 1000\n",
    "    sleep(.1)\n",
    "    b = a * 100\n",
    "    sleep(.1)\n",
    "    c = b * 100\n",
    "    return a\n",
    "\n",
    "def f1():\n",
    "    # a function that with growing\n",
    "    # memory consumption\n",
    "    a = [0] * 10000\n",
    "    sleep(1)\n",
    "    b = a * 100\n",
    "    sleep(1)\n",
    "    c = b * 100\n",
    "    return a\n",
    "\n",
    "nR = 7\n",
    "nC = 7\n",
    "\n",
    "comp = cp.comparison(rows= nR, columns= nC)\n",
    "comp.visualize_grid_graph()\n",
    "comp.compare_2_algorithms(f, f1)\n"
   ]
  }
 ],
 "metadata": {
  "kernelspec": {
   "display_name": "Python 3",
   "language": "python",
   "name": "python3"
  },
  "language_info": {
   "codemirror_mode": {
    "name": "ipython",
    "version": 3
   },
   "file_extension": ".py",
   "mimetype": "text/x-python",
   "name": "python",
   "nbconvert_exporter": "python",
   "pygments_lexer": "ipython3",
   "version": "3.10.8"
  }
 },
 "nbformat": 4,
 "nbformat_minor": 2
}
